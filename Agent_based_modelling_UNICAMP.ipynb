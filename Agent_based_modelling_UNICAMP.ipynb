{
  "nbformat": 4,
  "nbformat_minor": 0,
  "metadata": {
    "colab": {
      "name": "Agent-based-modelling-UNICAMP.ipynb",
      "provenance": [],
      "collapsed_sections": []
    },
    "kernelspec": {
      "name": "python3",
      "display_name": "Python 3"
    },
    "language_info": {
      "name": "python"
    }
  },
  "cells": [
    {
      "cell_type": "code",
      "metadata": {
        "id": "aMmlCHGFR7Su"
      },
      "source": [
        "import numpy as np\n",
        "import matplotlib.pyplot as plt\n",
        "import random\n",
        "import matplotlib.animation as animation\n",
        "from IPython.display import HTML\n"
      ],
      "execution_count": 2,
      "outputs": []
    },
    {
      "cell_type": "code",
      "metadata": {
        "id": "MOfQq3mx7xy8"
      },
      "source": [
        "class Institute:\n",
        "  def __init__ (self,location, area, name):\n",
        "    self.location = location\n",
        "    self.name = name\n",
        "    self.area = area\n",
        "\n"
      ],
      "execution_count": 3,
      "outputs": []
    },
    {
      "cell_type": "code",
      "metadata": {
        "id": "-tnHiMmMXYLX"
      },
      "source": [
        "class Student:\n",
        "  global dt\n",
        "  global a\n",
        "\n",
        "  dt = 0.1\n",
        "  def __init__ (self,Inst, Infect, Position, Vaci, Velocity, Quaren, Schedule,Imune, V0,Time):\n",
        "    self.Inst = Inst\n",
        "    self.Infect = Infect\n",
        "    self.Position = Position\n",
        "    self.Vaci = Vaci\n",
        "    self.Velocity = Velocity\n",
        "    self.Quaren = Quaren\n",
        "    self.Schedule = Schedule\n",
        "    self.Imune = Imune\n",
        "    self.V0 = V0\n",
        "    self.Time = Time\n",
        "    self.Goal = Schedule[Time[0]][Time[1]]\n",
        "\n",
        "\n",
        "\n",
        "  def Set_Goal(self,time):\n",
        "    self.Goal = self.Schedule[time[0]][time[1]]\n",
        "\n",
        "\n",
        "  def Set_P0(self, PosiInicial):\n",
        "    self.Position = PosiInitial\n",
        "  \n",
        "  def Set_V0(self, v0):\n",
        "    self.Velocity = v0\n",
        "\n",
        "  def att_posi(self):\n",
        "    self.Position = self.Position + self.Velocity*dt\n",
        "  \n",
        "  def att_velo(self):\n",
        "    self.Velocity = self.Velocity +a*dt\n",
        "\n",
        "\n",
        "    \n"
      ],
      "execution_count": 4,
      "outputs": []
    },
    {
      "cell_type": "code",
      "metadata": {
        "id": "XtuuwytjtdLo"
      },
      "source": [
        "def Generate_Schedule(inst):\n",
        "  # Create a schedule based on the institute that you specified \n",
        "  # Note that the inst_list needs to have the institutes listed in the same order as the institutes in the p_list\n",
        "\n",
        "\n",
        "  inst_list = [\"IFGW\",\"IC\", \"IMECC\"]\n",
        "  if inst == \"IFGW\":                                        # These are the probabilities of somoene who is in IFGW taking a class in each istitute\n",
        "    p_IFGW = 0.7                                            # For now, these are done manualy. We may need to find another way of doing it \n",
        "    p_IC = 0.1                                               \n",
        "    p_IMECC = 0.2\n",
        "    \n",
        "  if inst == \"IMECC\":\n",
        "    p_IFGW = 0.05\n",
        "    p_IC = 0.25\n",
        "    p_IMECC = 0.7\n",
        "\n",
        "  if inst == \"IC\":\n",
        "    p_IFGW = 0\n",
        "    p_IC = 0.8\n",
        "    p_IMECC = 0.2\n",
        "\n",
        "  p_list =  [p_IFGW,p_IC,p_IMECC]\n",
        "  d = [\"Mon\", \"Tue\", \"Wed\",\"Thu\",\"Fri\"]\n",
        "  schedule = {}\n",
        "  \n",
        "  for i in range(5):\n",
        "    schedule[d[i]] = {}\n",
        "    t = [8,9,10,11,14,15,16,17,18,19,20]                      # Times in wich you may have classes\n",
        "    for j in range(6):                                        # In the future I might change this to take in consideration the distribution of classes in a certain time, in order to be more realistic\n",
        "       h = random.randint(0,len(t)-1)\n",
        "       p = random.randint(1,100)/100\n",
        "       schedule[d[i]][t[h]] = np.random.choice(inst_list,p =p_list)\n",
        "       t.remove(t[h])\n",
        "    for j in range(0,len(t)):\n",
        "      schedule[d[i]][t[j]] = \"\"\n",
        "    schedule[d[i]][12] = \"\"\n",
        "    schedule[d[i]][13] = \"\"\n",
        "    \n",
        "  return schedule\n"
      ],
      "execution_count": 5,
      "outputs": []
    },
    {
      "cell_type": "code",
      "metadata": {
        "id": "L_wOBdoVihQL"
      },
      "source": [
        "def Create_Population(n,inst_distrib, vaci_prob, infect_prob, symp_prob, imune_prob):\n",
        "  # Creates a population for the University \n",
        "  # n is the number of people you want to create\n",
        "  # inst_distrib is the percentage of people in each institute: Needs to be a dictionary e.g.: {\"IC\": 0.25, \"IFGW\": 0.25, \"IMECC\": 0.5} \n",
        "  # vaci_prob is the probability of someone beeing vacinated \n",
        "  # infect_prob is the probaility of someone beeing infected in the beginning of the simulation\n",
        "  # symp_prob is the probability of someone infected showing symptoms \n",
        "  # imune _prob is the probability of someone beeing imune in the beginning of the simulation \n",
        "\n",
        "\n",
        "  pop = []\n",
        "  inst_list = list(inst_distrib.keys())\n",
        "  inst_p = []\n",
        "  n_inst = len(inst_list)\n",
        "  buff = 0\n",
        "  vac_efi = 97/100\n",
        "\n",
        "  for i in inst_list:\n",
        "    buff += inst_distrib[i]\n",
        "    inst_p.append(buff)\n",
        "\n",
        "\n",
        "  for i in range(n):\n",
        "    p_inst = random.randint(1,100)/100\n",
        "    p_infect = random.randint(1,100)/100\n",
        "    p_vaci =  random.randint(1,100)/100\n",
        "    p_vaci_efi = random.randint(1,100)/100\n",
        "    p_symp =  random.randint(1,100)/100\n",
        "    p_imune =  random.randint(1,100)/100\n",
        "\n",
        "    index = 0\n",
        "    for j in inst_p:\n",
        "      if p_inst <= inst_p[index]:\n",
        "        inst = inst_list[index]\n",
        "        index = 0\n",
        "        break\n",
        "      index += 1\n",
        "\n",
        "    imune = False\n",
        "    if p_imune <= imune_prob:\n",
        "      imune = True \n",
        "\n",
        "    vaci = False\n",
        "    if p_vaci <= vaci_prob and imune == False:\n",
        "      vaci = True\n",
        "      if p_vaci_efi <= vac_efi:\n",
        "        imune = True\n",
        "\n",
        "    infect = 0\n",
        "    if p_infect <= infect_prob and imune == False:\n",
        "      if p_symp <= symp_prob:\n",
        "        infect = 2\n",
        "      else:\n",
        "        infect = 1                  # Infected and symptomatic: infect = 2, Infected and Assymptomatic: infect = 1, Not infected = 0\n",
        "\n",
        "\n",
        "    schedule = Generate_Schedule(inst)\n",
        "    pop.append(Student(inst,infect,np.array([0,0]),vaci,np.array([0,0]),False, schedule , imune,np.array([0,0]),[\"Mon\",8]))\n",
        "\n",
        "  return pop\n"
      ],
      "execution_count": 6,
      "outputs": []
    },
    {
      "cell_type": "code",
      "metadata": {
        "id": "OlXARE_WnXZn"
      },
      "source": [
        "inst_distrib = {}\n",
        "inst_distrib[\"IMECC\"] = 50\n",
        "inst_distrib[\"IFGW\"] = 80\n",
        "inst_distrib[\"IC\"] = 30\n",
        "\n",
        "buff = 0\n",
        "for i in inst_distrib:\n",
        "  buff += inst_distrib[i]\n",
        "\n",
        "for i in inst_distrib:\n",
        "  inst_distrib[i] = inst_distrib[i]/buff\n",
        "\n"
      ],
      "execution_count": 7,
      "outputs": []
    },
    {
      "cell_type": "code",
      "metadata": {
        "id": "FP1W7GXWNGu5"
      },
      "source": [
        "def Generate_University(Institute_list,fig,ax):\n",
        "  for i in Institute_list:\n",
        "    r = np.sqrt(i.area/np.pi)\n",
        "    area = plt.Circle(i.location,r,fc = \"lightblue\", zorder = 0)\n",
        "    ax.scatter(i.location[0],i.location[1], color = \"blue\",zorder = 10)\n",
        "    ax.add_patch(area)\n"
      ],
      "execution_count": 8,
      "outputs": []
    },
    {
      "cell_type": "code",
      "metadata": {
        "id": "8oPWyu0Da6Mc"
      },
      "source": [
        "def random_walk (V):\n",
        "  theta  = np.random.choice(360)*np.pi/180\n",
        "  v = np.array([1,1])/(np.linalg.norm([1,1])) * V             #V = \"Size\" of the velocity vector \n",
        "  M = np.array([[np.cos(theta), -np.sin(theta)],[np.sin(theta),np.cos(theta)]])\n",
        "  v = M.dot(v)\n",
        "  return v"
      ],
      "execution_count": 9,
      "outputs": []
    },
    {
      "cell_type": "code",
      "metadata": {
        "id": "Osvo_d9JnjMy"
      },
      "source": [
        "\n",
        "students = Create_Population(500,inst_distrib,10/100,10/100,10/100,10/100)\n",
        "#students = [Student(\"IFGW\",True,np.array([0,0]),0,np.array([0,0]),False, {\"Mon\":{8:\"IFGW\",9:\"IC\",10:\"IMECC\"}} , 0,np.array([0,0]),[\"Mon\",8])]\n",
        "fig = plt.figure()\n",
        "ax = fig.add_subplot(1,1,1)\n",
        "\n",
        "IFGW = Institute(np.array([10,10]), 100, \"IFGW\")\n",
        "IMECC = Institute(np.array([10,-10]), 100, \"IMECC\")\n",
        "IC = Institute(np.array([-10,-10]), 100, \"IC\")\n",
        "inst_dict = {\"IFGW\":IFGW,\"IC\":IC, \"IMECC\": IMECC}\n",
        "inst_list = [IFGW,IC,IMECC]\n",
        "\n",
        "frames =6240\n",
        "d = 0\n",
        "day ='Mon'\n",
        "h = 0\n",
        "hour =8\n",
        "hour_dict = {0:8,1:9,2:10,3:11,4:12,5:13,6:14,7:15,8:16,9:17,10:18,11:19,12:20}\n",
        "day_dict = {0:\"Mon\",1:\"Tue\",2:\"Wed\",3:\"Thu\",4:\"Fri\"}\n",
        "\n",
        "def animate (i,frames):\n",
        "  global d,h,day,day_dict,hour_dict,hour\n",
        "  ax.clear()\n",
        "  Generate_University(inst_list,fig,ax)\n",
        "  d_time = int(frames/5)\n",
        "  h_time = int(d_time/13)\n",
        "\n",
        "\n",
        "  if i > d_time*(d+1):\n",
        "    d += 1\n",
        "    h = 0\n",
        "    day = day_dict[d%5]\n",
        "    hour = hour_dict[h]\n",
        "\n",
        "  \n",
        "  if  i > d_time*(d) + h_time*(h+1):\n",
        "    h += 1\n",
        "    hour = hour_dict[h]\n",
        "\n",
        "  time = [day,hour]\n",
        "\n",
        "\n",
        "  for i in students:\n",
        "    Student.Set_Goal(i,time)\n",
        "    if not i.Goal == \"\":\n",
        "      if (i.Position[0]-inst_dict[i.Goal].location[0])**2 + (i.Position[1]-inst_dict[i.Goal].location[1])**2 <= inst_dict[i.Goal].area / (2*np.pi):\n",
        "        i.Velocity = random_walk(2) \n",
        "      else:\n",
        "        v0 = (inst_dict[i.Goal].location - i.Position)/(np.linalg.norm((inst_dict[i.Goal].location - i.Position))) * 2  \n",
        "        Student.Set_V0(i, v0 + random_walk(4))\n",
        "    else:\n",
        "      Student.Set_V0(i, random_walk(4))\n",
        "      \n",
        "\n",
        "    Student.att_posi(i)\n",
        "    ax.scatter(i.Position[0],i.Position[1], color = \"Red\",marker = \"o\")\n",
        "  ax.set_title( str(time[0]) + \" - \" + str(time[1])+ \"hrs\" )\n",
        "\n",
        "\n",
        "\n",
        "ax.set_xlim(20)\n",
        "ax.set_ylim(20)\n",
        "\n",
        "anim = animation.FuncAnimation(fig, animate, interval = 100, fargs = [frames], save_count = frames )\n",
        "\n",
        "    \n",
        "HTML(anim.to_html5_video())\n",
        "\n"
      ],
      "execution_count": null,
      "outputs": []
    },
    {
      "cell_type": "code",
      "metadata": {
        "id": "A59cNHN_xduW"
      },
      "source": [
        ""
      ],
      "execution_count": null,
      "outputs": []
    }
  ]
}